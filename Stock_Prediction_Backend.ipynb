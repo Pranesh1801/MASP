{
  "nbformat": 4,
  "nbformat_minor": 0,
  "metadata": {
    "colab": {
      "provenance": []
    },
    "kernelspec": {
      "name": "python3",
      "display_name": "Python 3"
    },
    "language_info": {
      "name": "python"
    }
  },
  "cells": [
    {
      "cell_type": "code",
      "source": [
        "import csv\n",
        "\n",
        "def read_csv(filename):\n",
        "    data = []\n",
        "    with open(filename, newline='') as file:\n",
        "        reader = csv.reader(file)\n",
        "        for row in reader:\n",
        "            data.append([float(cell) for cell in row])\n",
        "    return data\n",
        "\n",
        "def calculate_average(v):\n",
        "    return sum(v) / len(v)\n",
        "\n",
        "data = read_csv('NFLX.csv')\n",
        "n = len(data)\n",
        "last_21_days = [data[i][3] for i in range(n - 1, n - 22, -1)]\n",
        "last_3_days = [data[i][3] for i in range(n - 1, n - 4, -1)]\n",
        "avg_last_21_days = calculate_average(last_21_days)\n",
        "avg_last_3_days = calculate_average(last_3_days)\n",
        "\n",
        "if avg_last_3_days > avg_last_21_days:\n",
        "    print('UP')\n",
        "    highest_so_far = max(last_21_days)\n",
        "    print(f'Current price: {data[n-1][3]}')\n",
        "    print(f'Expected target: {highest_so_far}')\n",
        "else:\n",
        "    print('DOWN')\n",
        "    lowest_so_far = min(last_21_days)\n",
        "    print(f'Current price: {data[n-1][3]}')\n",
        "    print(f'Expected target: {lowest_so_far}')"
      ],
      "metadata": {
        "colab": {
          "base_uri": "https://localhost:8080/"
        },
        "id": "iMCZGH1xvXUs",
        "outputId": "c7f906c7-5a3b-4c39-fbae-c307cb2e2ea0"
      },
      "execution_count": 11,
      "outputs": [
        {
          "output_type": "stream",
          "name": "stdout",
          "text": [
            "DOWN\n",
            "Current price: 410.170013\n",
            "Expected target: 359.700012\n"
          ]
        }
      ]
    }
  ]
}